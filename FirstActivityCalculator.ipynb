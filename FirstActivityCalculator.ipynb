{
  "nbformat": 4,
  "nbformat_minor": 0,
  "metadata": {
    "colab": {
      "provenance": []
    },
    "kernelspec": {
      "name": "python3",
      "display_name": "Python 3"
    },
    "language_info": {
      "name": "python"
    }
  },
  "cells": [
    {
      "cell_type": "markdown",
      "source": [
        "Data Technician\n",
        "Skills Bootcamp Python - First Day\n",
        "Just IT 30/10/2023\n",
        "The Calculator Challenge\n"
      ],
      "metadata": {
        "id": "C4jIC405U_mB"
      }
    },
    {
      "cell_type": "code",
      "source": [
        "try:\n",
        "\n",
        "  #Ask the user to enter two numbers\n",
        "  number1=float(input(\"Insert the first number: \"))\n",
        "  number2=float(input(\"Insert the second number: \"))\n",
        "\n",
        "  # Ask the user to choose an arithmetic operation\n",
        "  operation = input(\"Choose an arithmetic operation (+, -, *, /): \")\n",
        "\n",
        "  # Perform the selected operation and display the result\n",
        "  if operation == \"+\":\n",
        "    result = round(number1+number2,1)\n",
        "  elif operation == \"-\":\n",
        "    result = round(number1-number2,1)\n",
        "  elif operation == \"*\":\n",
        "    result = round(number1*number2,1)\n",
        "  elif operation ==\"/\":\n",
        "    result = round(number1/number2,1)\n",
        "  print(f\"Result: {result}\")\n",
        "\n",
        "  #Using try/except in case something else then valide value is type by the user\n",
        "except:\n",
        " print(\"An error was found!\\nPlease start again\")"
      ],
      "metadata": {
        "colab": {
          "base_uri": "https://localhost:8080/"
        },
        "id": "ynIJHAtxVFJy",
        "outputId": "7d7b1ca7-6e75-4a5f-db4e-8ae7e60b4ffd"
      },
      "execution_count": null,
      "outputs": [
        {
          "output_type": "stream",
          "name": "stdout",
          "text": [
            "Insert the first number: 2\n",
            "Insert the second number: 5\n",
            "Choose an arithmetic operation (+, -, *, /): *\n",
            "Result: 10.0\n"
          ]
        }
      ]
    }
  ]
}